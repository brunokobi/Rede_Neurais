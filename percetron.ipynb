{
  "nbformat": 4,
  "nbformat_minor": 0,
  "metadata": {
    "colab": {
      "provenance": [],
      "authorship_tag": "ABX9TyMl/Cko525cJlYZ789zmZoM",
      "include_colab_link": true
    },
    "kernelspec": {
      "name": "python3",
      "display_name": "Python 3"
    },
    "language_info": {
      "name": "python"
    }
  },
  "cells": [
    {
      "cell_type": "markdown",
      "metadata": {
        "id": "view-in-github",
        "colab_type": "text"
      },
      "source": [
        "<a href=\"https://colab.research.google.com/github/brunokobi/Rede_Neurais/blob/main/percetron.ipynb\" target=\"_parent\"><img src=\"https://colab.research.google.com/assets/colab-badge.svg\" alt=\"Open In Colab\"/></a>"
      ]
    },
    {
      "cell_type": "code",
      "source": [
        "import numpy as np\n",
        "from sklearn.datasets import load_breast_cancer\n",
        "from sklearn.model_selection import train_test_split\n",
        "from sklearn.linear_model import Perceptron\n",
        "from sklearn.svm import LinearSVC\n",
        "from sklearn.metrics import accuracy_score\n",
        "import warnings\n",
        "warnings.filterwarnings('ignore')\n",
        "\n",
        "# Carrega a base de dados Breast Cancer\n",
        "breast_cancer = load_breast_cancer()\n",
        "X = breast_cancer.data\n",
        "y = breast_cancer.target\n",
        "\n",
        "# Divide a base de dados em conjunto de treino e conjunto de teste\n",
        "X_train, X_test, y_train, y_test = train_test_split(X, y, test_size=0.3, random_state=42)\n",
        "\n",
        "# Implementa o modelo Perceptron Linear em classe\n",
        "class Perceptron_Lin:\n",
        "    def __init__(self, learning_rate=0.01, n_epochs=100):\n",
        "        self.learning_rate = learning_rate\n",
        "        self.n_epochs = n_epochs\n",
        "        self.w = None\n",
        "        self.b = None\n",
        "\n",
        "    def fit(self, X, y):\n",
        "        n_samples, n_features = X.shape\n",
        "        self.w = np.zeros(n_features)\n",
        "        self.b = 0\n",
        "\n",
        "        for _ in range(self.n_epochs):\n",
        "            for i in range(n_samples):\n",
        "                if y[i] * (np.dot(X[i], self.w) + self.b) <= 0:\n",
        "                    self.w += self.learning_rate * y[i] * X[i]\n",
        "                    self.b += self.learning_rate * y[i]\n",
        "\n",
        "    def predict(self, X):\n",
        "        return np.sign(np.dot(X, self.w) + self.b)\n",
        "\n",
        "# Cria e treina o modelo Perceptron Linear\n",
        "perceptron_lin = Perceptron_Lin()\n",
        "perceptron_lin.fit(X_train, y_train)\n",
        "\n",
        "# Cria e treina o modelo LinearSVC\n",
        "svc = LinearSVC(max_iter=100000)\n",
        "svc.fit(X_train, y_train)\n",
        "\n",
        "# Faz as previsões em cima do conjunto de teste\n",
        "y_pred_perceptron_lin = perceptron_lin.predict(X_test)\n",
        "y_pred_svc = svc.predict(X_test)\n",
        "\n",
        "# Calcula a acurácia dos modelos\n",
        "accuracy_perceptron_lin = accuracy_score(y_test, y_pred_perceptron_lin)\n",
        "accuracy_svc = accuracy_score(y_test, y_pred_svc)\n"
      ],
      "metadata": {
        "id": "sdg1WadW57p0"
      },
      "execution_count": 9,
      "outputs": []
    },
    {
      "cell_type": "markdown",
      "source": [
        "**Resultados **"
      ],
      "metadata": {
        "id": "1-vDjvoo-Qy4"
      }
    },
    {
      "cell_type": "code",
      "source": [
        "# Imprime os resultados\n",
        "print(\"\\033[46m\\033[97mAcurácia do Perceptron Linear implementado em classe: {:.2f}%\\033[0m\".format(accuracy_perceptron_lin*100))\n",
        "print(\"\\033[46m\\033[97mAcurácia do LinearSVC: {:.2f}%\\033[0m\".format(accuracy_svc*100))"
      ],
      "metadata": {
        "colab": {
          "base_uri": "https://localhost:8080/"
        },
        "id": "e3RJgMGd-HzN",
        "outputId": "4c1820a5-aaab-4d81-8211-ebde5f7039d9"
      },
      "execution_count": 6,
      "outputs": [
        {
          "output_type": "stream",
          "name": "stdout",
          "text": [
            "\u001b[46m\u001b[97mAcurácia do Perceptron Linear implementado em classe: 63.16%\u001b[0m\n",
            "\u001b[46m\u001b[97mAcurácia do LinearSVC: 79.53%\u001b[0m\n"
          ]
        }
      ]
    }
  ]
}