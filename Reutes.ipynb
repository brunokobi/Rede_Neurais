{
  "nbformat": 4,
  "nbformat_minor": 0,
  "metadata": {
    "colab": {
      "provenance": [],
      "authorship_tag": "ABX9TyPyM0LkPe5YKEDZWrrrY99t",
      "include_colab_link": true
    },
    "kernelspec": {
      "name": "python3",
      "display_name": "Python 3"
    },
    "language_info": {
      "name": "python"
    }
  },
  "cells": [
    {
      "cell_type": "markdown",
      "metadata": {
        "id": "view-in-github",
        "colab_type": "text"
      },
      "source": [
        "<a href=\"https://colab.research.google.com/github/brunokobi/Rede_Neurais/blob/main/Reutes.ipynb\" target=\"_parent\"><img src=\"https://colab.research.google.com/assets/colab-badge.svg\" alt=\"Open In Colab\"/></a>"
      ]
    },
    {
      "cell_type": "code",
      "execution_count": null,
      "metadata": {
        "colab": {
          "base_uri": "https://localhost:8080/"
        },
        "id": "yiS5vZQOWKZ_",
        "outputId": "8a2d02c7-e7a8-4d4e-980d-18e29981373f"
      },
      "outputs": [
        {
          "output_type": "stream",
          "name": "stdout",
          "text": [
            "Epoch 1/30\n",
            "281/281 [==============================] - 39s 135ms/step - loss: 1.1700 - accuracy: 0.7433\n",
            "Epoch 2/30\n",
            "281/281 [==============================] - 38s 137ms/step - loss: 0.5504 - accuracy: 0.8798\n",
            "Epoch 3/30\n",
            "281/281 [==============================] - 38s 137ms/step - loss: 0.3556 - accuracy: 0.9203\n",
            "Epoch 4/30\n",
            "281/281 [==============================] - 39s 137ms/step - loss: 0.2832 - accuracy: 0.9387\n",
            "Epoch 5/30\n",
            "281/281 [==============================] - 38s 137ms/step - loss: 0.2428 - accuracy: 0.9462\n",
            "Epoch 6/30\n",
            "281/281 [==============================] - 38s 136ms/step - loss: 0.2332 - accuracy: 0.9492\n",
            "Epoch 7/30\n",
            "281/281 [==============================] - 38s 137ms/step - loss: 0.2145 - accuracy: 0.9509\n",
            "Epoch 8/30\n",
            "281/281 [==============================] - 38s 137ms/step - loss: 0.2191 - accuracy: 0.9513\n",
            "Epoch 9/30\n",
            "281/281 [==============================] - 38s 136ms/step - loss: 0.2080 - accuracy: 0.9518\n",
            "Epoch 10/30\n",
            "281/281 [==============================] - 39s 137ms/step - loss: 0.2084 - accuracy: 0.9523\n",
            "Epoch 11/30\n",
            "281/281 [==============================] - 39s 138ms/step - loss: 0.1981 - accuracy: 0.9546\n",
            "Epoch 12/30\n",
            " 16/281 [>.............................] - ETA: 39s - loss: 0.1232 - accuracy: 0.9648"
          ]
        }
      ],
      "source": [
        "import tensorflow as tf\n",
        "from tensorflow import keras\n",
        "from tensorflow.keras.datasets import reuters\n",
        "from tensorflow.keras.models import Sequential\n",
        "from tensorflow.keras.layers import Dense, Dropout, Activation\n",
        "from tensorflow.keras.preprocessing.text import Tokenizer\n",
        "import numpy as np\n",
        "\n",
        "# Define parâmetros para a rede neural\n",
        "max_words = 10000\n",
        "epochs = 30\n",
        "\n",
        "# Carregue os dados Reuters e divida em conjuntos de treinamento e teste\n",
        "(x_train, y_train), (x_test, y_test) = reuters.load_data(num_words=max_words)\n",
        "\n",
        "# Converta os dados em vetores binários one-hot\n",
        "tokenizer = Tokenizer(num_words=max_words)\n",
        "x_train = tokenizer.sequences_to_matrix(x_train, mode='binary')\n",
        "x_test = tokenizer.sequences_to_matrix(x_test, mode='binary')\n",
        "y_train = keras.utils.to_categorical(y_train)\n",
        "y_test = keras.utils.to_categorical(y_test)\n",
        "\n",
        "# Crie o modelo sequencial________________________________________________\n",
        "model = Sequential()\n",
        "\n",
        "#Essa linha adiciona uma camada densa à rede neural.\n",
        "model.add(Dense(1024, input_shape=(max_words,)))\n",
        "\n",
        "#Essa linha adiciona uma camada de ativação softmax à rede neural.\n",
        "model.add(Activation('relu'))\n",
        "\n",
        "# Regularização comumente usada em redes neurais profundas para evitar o overfitting\n",
        "model.add(Dropout(0.5))\n",
        "\n",
        "#Essa linha adiciona uma camada densa à rede neural.\n",
        "model.add(Dense(y_train.shape[1]))\n",
        "\n",
        "#Essa linha adiciona uma camada de ativação softmax à rede neural.\n",
        "model.add(Activation('softmax'))\n",
        "\n",
        "\n",
        "# Compile o modelo________________________________________________\n",
        "model.compile(loss='categorical_crossentropy', optimizer='rmsprop', metrics=['accuracy'])\n",
        "\n",
        "# Treine o modelo\n",
        "model.fit(x_train, y_train, epochs=epochs)\n",
        "\n",
        "# Avalie o modelo no conjunto de teste\n",
        "score = model.evaluate(x_test, y_test)\n",
        "print('Acurácia: {:.2f} %'.format(round(score[1], 4)*100))\n"
      ]
    }
  ]
}